{
 "cells": [
  {
   "cell_type": "code",
   "execution_count": 40,
   "metadata": {},
   "outputs": [],
   "source": [
    "import pymysql\n",
    "import pandas as pd"
   ]
  },
  {
   "cell_type": "code",
   "execution_count": 112,
   "metadata": {},
   "outputs": [],
   "source": [
    "conn = pymysql.connect(\n",
    "    user = \"root\",\n",
    "    host = \"localhost\",\n",
    "    password = \"mysql12345\",\n",
    "    database = \"mysql_dbtest\"\n",
    ")\n",
    "cursor = conn.cursor()"
   ]
  },
  {
   "cell_type": "code",
   "execution_count": 113,
   "metadata": {},
   "outputs": [
    {
     "data": {
      "text/plain": [
       "(('COMMUNITY_AREA_NUMBER', 'varchar(255)', 'YES', '', None, ''),\n",
       " ('COMMUNITY_AREA_NAME', 'varchar(255)', 'YES', '', None, ''),\n",
       " ('PERCENT_OF_HOUSING_CROWDED', 'varchar(255)', 'YES', '', None, ''),\n",
       " ('PERCENT_HOUSEHOLDS_BELOW_POVERTY', 'varchar(255)', 'YES', '', None, ''),\n",
       " ('PERCENT_AGED_16__UNEMPLOYED', 'varchar(255)', 'YES', '', None, ''),\n",
       " ('PERCENT_AGED_25__WITHOUT_HIGH_SCHOOL_DIPLOMA',\n",
       "  'varchar(255)',\n",
       "  'YES',\n",
       "  '',\n",
       "  None,\n",
       "  ''),\n",
       " ('PERCENT_AGED_UNDER_18_OR_OVER_64', 'varchar(255)', 'YES', '', None, ''),\n",
       " ('PER_CAPITA_INCOME', 'varchar(255)', 'YES', '', None, ''),\n",
       " ('HARDSHIP_INDEX', 'varchar(255)', 'YES', '', None, ''))"
      ]
     },
     "execution_count": 113,
     "metadata": {},
     "output_type": "execute_result"
    }
   ],
   "source": [
    "cursor.execute(\"DESCRIBE CensusData\")\n",
    "describe = cursor.fetchall()\n",
    "describe"
   ]
  },
  {
   "cell_type": "markdown",
   "metadata": {},
   "source": [
    "1.Find the total number of crimes recorded in the CRIME table."
   ]
  },
  {
   "cell_type": "code",
   "execution_count": 23,
   "metadata": {},
   "outputs": [
    {
     "data": {
      "text/plain": [
       "533"
      ]
     },
     "execution_count": 23,
     "metadata": {},
     "output_type": "execute_result"
    }
   ],
   "source": [
    "find_total_c = \"SELECT count(*) FROM CrimeData\"\n",
    "cursor.execute(find_total_c)\n",
    "results = cursor.fetchall()\n",
    "results[0][0]"
   ]
  },
  {
   "cell_type": "markdown",
   "metadata": {},
   "source": [
    "2.List community areas with per capita income less than 11000."
   ]
  },
  {
   "cell_type": "code",
   "execution_count": 43,
   "metadata": {},
   "outputs": [
    {
     "data": {
      "text/html": [
       "<div>\n",
       "<style scoped>\n",
       "    .dataframe tbody tr th:only-of-type {\n",
       "        vertical-align: middle;\n",
       "    }\n",
       "\n",
       "    .dataframe tbody tr th {\n",
       "        vertical-align: top;\n",
       "    }\n",
       "\n",
       "    .dataframe thead th {\n",
       "        text-align: right;\n",
       "    }\n",
       "</style>\n",
       "<table border=\"1\" class=\"dataframe\">\n",
       "  <thead>\n",
       "    <tr style=\"text-align: right;\">\n",
       "      <th></th>\n",
       "      <th>COMMUNITY_AREA_NUMBER</th>\n",
       "      <th>COMMUNITY_AREA_NAME</th>\n",
       "      <th>PERCENT_OF_HOUSING_CROWDED</th>\n",
       "      <th>PERCENT_HOUSEHOLDS_BELOW_POVERTY</th>\n",
       "      <th>PERCENT_AGED_16__UNEMPLOYED</th>\n",
       "      <th>PERCENT_AGED_25__WITHOUT_HIGH_SCHOOL_DIPLOMA</th>\n",
       "      <th>PERCENT_AGED_UNDER_18_OR_OVER_64</th>\n",
       "      <th>PER_CAPITA_INCOME</th>\n",
       "      <th>HARDSHIP_INDEX</th>\n",
       "    </tr>\n",
       "  </thead>\n",
       "  <tbody>\n",
       "    <tr>\n",
       "      <th>0</th>\n",
       "      <td>26</td>\n",
       "      <td>West Garfield Park</td>\n",
       "      <td>9.4</td>\n",
       "      <td>41.7</td>\n",
       "      <td>25.8</td>\n",
       "      <td>24.5</td>\n",
       "      <td>43.6</td>\n",
       "      <td>10934</td>\n",
       "      <td>92</td>\n",
       "    </tr>\n",
       "    <tr>\n",
       "      <th>1</th>\n",
       "      <td>30</td>\n",
       "      <td>South Lawndale</td>\n",
       "      <td>15.2</td>\n",
       "      <td>30.7</td>\n",
       "      <td>15.8</td>\n",
       "      <td>54.8</td>\n",
       "      <td>33.8</td>\n",
       "      <td>10402</td>\n",
       "      <td>96</td>\n",
       "    </tr>\n",
       "    <tr>\n",
       "      <th>2</th>\n",
       "      <td>37</td>\n",
       "      <td>Fuller Park</td>\n",
       "      <td>3.2</td>\n",
       "      <td>51.2</td>\n",
       "      <td>33.9</td>\n",
       "      <td>26.6</td>\n",
       "      <td>44.9</td>\n",
       "      <td>10432</td>\n",
       "      <td>97</td>\n",
       "    </tr>\n",
       "    <tr>\n",
       "      <th>3</th>\n",
       "      <td>54</td>\n",
       "      <td>Riverdale</td>\n",
       "      <td>5.8</td>\n",
       "      <td>56.5</td>\n",
       "      <td>34.6</td>\n",
       "      <td>27.5</td>\n",
       "      <td>51.5</td>\n",
       "      <td>8201</td>\n",
       "      <td>98</td>\n",
       "    </tr>\n",
       "  </tbody>\n",
       "</table>\n",
       "</div>"
      ],
      "text/plain": [
       "  COMMUNITY_AREA_NUMBER COMMUNITY_AREA_NAME PERCENT_OF_HOUSING_CROWDED  \\\n",
       "0                    26  West Garfield Park                        9.4   \n",
       "1                    30      South Lawndale                       15.2   \n",
       "2                    37         Fuller Park                        3.2   \n",
       "3                    54           Riverdale                        5.8   \n",
       "\n",
       "  PERCENT_HOUSEHOLDS_BELOW_POVERTY PERCENT_AGED_16__UNEMPLOYED  \\\n",
       "0                             41.7                        25.8   \n",
       "1                             30.7                        15.8   \n",
       "2                             51.2                        33.9   \n",
       "3                             56.5                        34.6   \n",
       "\n",
       "  PERCENT_AGED_25__WITHOUT_HIGH_SCHOOL_DIPLOMA  \\\n",
       "0                                         24.5   \n",
       "1                                         54.8   \n",
       "2                                         26.6   \n",
       "3                                         27.5   \n",
       "\n",
       "  PERCENT_AGED_UNDER_18_OR_OVER_64 PER_CAPITA_INCOME HARDSHIP_INDEX  \n",
       "0                             43.6             10934             92  \n",
       "1                             33.8             10402             96  \n",
       "2                             44.9             10432             97  \n",
       "3                             51.5              8201             98  "
      ]
     },
     "execution_count": 43,
     "metadata": {},
     "output_type": "execute_result"
    }
   ],
   "source": [
    "command = \"SELECT * FROM CensusData WHERE PER_CAPITA_INCOME < 11000\"\n",
    "cursor.execute(command)\n",
    "results = cursor.fetchall()\n",
    "results_df = pd.DataFrame(results, columns=[col[0] for col in cursor.description])\n",
    "results_df"
   ]
  },
  {
   "cell_type": "markdown",
   "metadata": {},
   "source": [
    "3.List all case numbers for crimes involving minors?(children are not considered minors for the purposes of crime analysis)"
   ]
  },
  {
   "cell_type": "code",
   "execution_count": 51,
   "metadata": {},
   "outputs": [
    {
     "data": {
      "text/html": [
       "<div>\n",
       "<style scoped>\n",
       "    .dataframe tbody tr th:only-of-type {\n",
       "        vertical-align: middle;\n",
       "    }\n",
       "\n",
       "    .dataframe tbody tr th {\n",
       "        vertical-align: top;\n",
       "    }\n",
       "\n",
       "    .dataframe thead th {\n",
       "        text-align: right;\n",
       "    }\n",
       "</style>\n",
       "<table border=\"1\" class=\"dataframe\">\n",
       "  <thead>\n",
       "    <tr style=\"text-align: right;\">\n",
       "      <th></th>\n",
       "      <th>ID</th>\n",
       "      <th>CASE_NUMBER</th>\n",
       "      <th>DATE</th>\n",
       "      <th>BLOCK</th>\n",
       "      <th>IUCR</th>\n",
       "      <th>PRIMARY_TYPE</th>\n",
       "      <th>DESCRIPTION</th>\n",
       "      <th>LOCATION_DESCRIPTION</th>\n",
       "      <th>ARREST</th>\n",
       "      <th>DOMESTIC</th>\n",
       "      <th>...</th>\n",
       "      <th>DISTRICT</th>\n",
       "      <th>WARD</th>\n",
       "      <th>COMMUNITY_AREA_NUMBER</th>\n",
       "      <th>FBICODE</th>\n",
       "      <th>X_COORDINATE</th>\n",
       "      <th>Y_COORDINATE</th>\n",
       "      <th>YEAR</th>\n",
       "      <th>LATITUDE</th>\n",
       "      <th>LONGITUDE</th>\n",
       "      <th>LOCATION</th>\n",
       "    </tr>\n",
       "  </thead>\n",
       "  <tbody>\n",
       "    <tr>\n",
       "      <th>0</th>\n",
       "      <td>3987219</td>\n",
       "      <td>HL266884</td>\n",
       "      <td>2005-03-31</td>\n",
       "      <td>024XX N CLARK ST</td>\n",
       "      <td>2210</td>\n",
       "      <td>LIQUOR LAW VIOLATION</td>\n",
       "      <td>SELL/GIVE/DEL LIQUOR TO MINOR</td>\n",
       "      <td>CONVENIENCE STORE</td>\n",
       "      <td>TRUE</td>\n",
       "      <td>FALSE</td>\n",
       "      <td>...</td>\n",
       "      <td>19</td>\n",
       "      <td>43</td>\n",
       "      <td>7</td>\n",
       "      <td>22</td>\n",
       "      <td>1172680</td>\n",
       "      <td>1916483</td>\n",
       "      <td>2005</td>\n",
       "      <td>41.92626872</td>\n",
       "      <td>-87.64089934</td>\n",
       "      <td>(41.926268719, -87.640899336)</td>\n",
       "    </tr>\n",
       "    <tr>\n",
       "      <th>1</th>\n",
       "      <td>3266814</td>\n",
       "      <td>HK238408</td>\n",
       "      <td>2004-03-13</td>\n",
       "      <td>093XX S STONY ISLAND AVE</td>\n",
       "      <td>2230</td>\n",
       "      <td>LIQUOR LAW VIOLATION</td>\n",
       "      <td>ILLEGAL CONSUMPTION BY MINOR</td>\n",
       "      <td>ALLEY</td>\n",
       "      <td>TRUE</td>\n",
       "      <td>FALSE</td>\n",
       "      <td>...</td>\n",
       "      <td>4</td>\n",
       "      <td>8</td>\n",
       "      <td>48</td>\n",
       "      <td>22</td>\n",
       "      <td>1188539</td>\n",
       "      <td>1843379</td>\n",
       "      <td>2004</td>\n",
       "      <td>41.72530099</td>\n",
       "      <td>-87.58496589</td>\n",
       "      <td>(41.72530099, -87.584965887)</td>\n",
       "    </tr>\n",
       "  </tbody>\n",
       "</table>\n",
       "<p>2 rows × 21 columns</p>\n",
       "</div>"
      ],
      "text/plain": [
       "        ID CASE_NUMBER        DATE                     BLOCK  IUCR  \\\n",
       "0  3987219    HL266884  2005-03-31          024XX N CLARK ST  2210   \n",
       "1  3266814    HK238408  2004-03-13  093XX S STONY ISLAND AVE  2230   \n",
       "\n",
       "           PRIMARY_TYPE                    DESCRIPTION LOCATION_DESCRIPTION  \\\n",
       "0  LIQUOR LAW VIOLATION  SELL/GIVE/DEL LIQUOR TO MINOR    CONVENIENCE STORE   \n",
       "1  LIQUOR LAW VIOLATION   ILLEGAL CONSUMPTION BY MINOR                ALLEY   \n",
       "\n",
       "  ARREST DOMESTIC  ... DISTRICT WARD COMMUNITY_AREA_NUMBER FBICODE  \\\n",
       "0   TRUE    FALSE  ...       19   43                     7      22   \n",
       "1   TRUE    FALSE  ...        4    8                    48      22   \n",
       "\n",
       "  X_COORDINATE Y_COORDINATE  YEAR     LATITUDE     LONGITUDE  \\\n",
       "0      1172680      1916483  2005  41.92626872  -87.64089934   \n",
       "1      1188539      1843379  2004  41.72530099  -87.58496589   \n",
       "\n",
       "                        LOCATION  \n",
       "0  (41.926268719, -87.640899336)  \n",
       "1   (41.72530099, -87.584965887)  \n",
       "\n",
       "[2 rows x 21 columns]"
      ]
     },
     "execution_count": 51,
     "metadata": {},
     "output_type": "execute_result"
    }
   ],
   "source": [
    "command = \"SELECT * FROM CrimeData WHERE LOWER(DESCRIPTION) LIKE '%minor%'\"\n",
    "cursor.execute(command)\n",
    "results = cursor.fetchall()\n",
    "results_df = pd.DataFrame(results, columns=[col[0] for col in cursor.description])\n",
    "results_df"
   ]
  },
  {
   "cell_type": "markdown",
   "metadata": {},
   "source": [
    "4.List all kidnapping crimes involving a child?"
   ]
  },
  {
   "cell_type": "code",
   "execution_count": 52,
   "metadata": {},
   "outputs": [
    {
     "data": {
      "text/html": [
       "<div>\n",
       "<style scoped>\n",
       "    .dataframe tbody tr th:only-of-type {\n",
       "        vertical-align: middle;\n",
       "    }\n",
       "\n",
       "    .dataframe tbody tr th {\n",
       "        vertical-align: top;\n",
       "    }\n",
       "\n",
       "    .dataframe thead th {\n",
       "        text-align: right;\n",
       "    }\n",
       "</style>\n",
       "<table border=\"1\" class=\"dataframe\">\n",
       "  <thead>\n",
       "    <tr style=\"text-align: right;\">\n",
       "      <th></th>\n",
       "      <th>ID</th>\n",
       "      <th>CASE_NUMBER</th>\n",
       "      <th>DATE</th>\n",
       "      <th>BLOCK</th>\n",
       "      <th>IUCR</th>\n",
       "      <th>PRIMARY_TYPE</th>\n",
       "      <th>DESCRIPTION</th>\n",
       "      <th>LOCATION_DESCRIPTION</th>\n",
       "      <th>ARREST</th>\n",
       "      <th>DOMESTIC</th>\n",
       "      <th>...</th>\n",
       "      <th>DISTRICT</th>\n",
       "      <th>WARD</th>\n",
       "      <th>COMMUNITY_AREA_NUMBER</th>\n",
       "      <th>FBICODE</th>\n",
       "      <th>X_COORDINATE</th>\n",
       "      <th>Y_COORDINATE</th>\n",
       "      <th>YEAR</th>\n",
       "      <th>LATITUDE</th>\n",
       "      <th>LONGITUDE</th>\n",
       "      <th>LOCATION</th>\n",
       "    </tr>\n",
       "  </thead>\n",
       "  <tbody>\n",
       "    <tr>\n",
       "      <th>0</th>\n",
       "      <td>5276766</td>\n",
       "      <td>HN144152</td>\n",
       "      <td>2007-01-26</td>\n",
       "      <td>050XX W VAN BUREN ST</td>\n",
       "      <td>1792</td>\n",
       "      <td>KIDNAPPING</td>\n",
       "      <td>CHILD ABDUCTION/STRANGER</td>\n",
       "      <td>STREET</td>\n",
       "      <td>FALSE</td>\n",
       "      <td>FALSE</td>\n",
       "      <td>...</td>\n",
       "      <td>15</td>\n",
       "      <td>29</td>\n",
       "      <td>25</td>\n",
       "      <td>20</td>\n",
       "      <td>1143050</td>\n",
       "      <td>1897546</td>\n",
       "      <td>2007</td>\n",
       "      <td>41.87490841</td>\n",
       "      <td>-87.75024931</td>\n",
       "      <td>(41.874908413, -87.750249307)</td>\n",
       "    </tr>\n",
       "  </tbody>\n",
       "</table>\n",
       "<p>1 rows × 21 columns</p>\n",
       "</div>"
      ],
      "text/plain": [
       "        ID CASE_NUMBER        DATE                 BLOCK  IUCR PRIMARY_TYPE  \\\n",
       "0  5276766    HN144152  2007-01-26  050XX W VAN BUREN ST  1792   KIDNAPPING   \n",
       "\n",
       "                DESCRIPTION LOCATION_DESCRIPTION ARREST DOMESTIC  ...  \\\n",
       "0  CHILD ABDUCTION/STRANGER               STREET  FALSE    FALSE  ...   \n",
       "\n",
       "  DISTRICT WARD COMMUNITY_AREA_NUMBER FBICODE X_COORDINATE Y_COORDINATE  YEAR  \\\n",
       "0       15   29                    25      20      1143050      1897546  2007   \n",
       "\n",
       "      LATITUDE     LONGITUDE                       LOCATION  \n",
       "0  41.87490841  -87.75024931  (41.874908413, -87.750249307)  \n",
       "\n",
       "[1 rows x 21 columns]"
      ]
     },
     "execution_count": 52,
     "metadata": {},
     "output_type": "execute_result"
    }
   ],
   "source": [
    "command = \"SELECT * FROM CrimeData WHERE PRIMARY_TYPE = 'KIDNAPPING' AND LOWER(DESCRIPTION) LIKE '%child%'\"\n",
    "cursor.execute(command)\n",
    "results = cursor.fetchall()\n",
    "results_df = pd.DataFrame(results, columns=[col[0] for col in cursor.description])\n",
    "results_df"
   ]
  },
  {
   "cell_type": "markdown",
   "metadata": {},
   "source": [
    "5.What kinds of crimes were recorded at schools"
   ]
  },
  {
   "cell_type": "code",
   "execution_count": 55,
   "metadata": {},
   "outputs": [
    {
     "data": {
      "text/html": [
       "<div>\n",
       "<style scoped>\n",
       "    .dataframe tbody tr th:only-of-type {\n",
       "        vertical-align: middle;\n",
       "    }\n",
       "\n",
       "    .dataframe tbody tr th {\n",
       "        vertical-align: top;\n",
       "    }\n",
       "\n",
       "    .dataframe thead th {\n",
       "        text-align: right;\n",
       "    }\n",
       "</style>\n",
       "<table border=\"1\" class=\"dataframe\">\n",
       "  <thead>\n",
       "    <tr style=\"text-align: right;\">\n",
       "      <th></th>\n",
       "      <th>PRIMARY_TYPE</th>\n",
       "    </tr>\n",
       "  </thead>\n",
       "  <tbody>\n",
       "    <tr>\n",
       "      <th>0</th>\n",
       "      <td>BATTERY</td>\n",
       "    </tr>\n",
       "    <tr>\n",
       "      <th>1</th>\n",
       "      <td>CRIMINAL DAMAGE</td>\n",
       "    </tr>\n",
       "    <tr>\n",
       "      <th>2</th>\n",
       "      <td>NARCOTICS</td>\n",
       "    </tr>\n",
       "    <tr>\n",
       "      <th>3</th>\n",
       "      <td>ASSAULT</td>\n",
       "    </tr>\n",
       "    <tr>\n",
       "      <th>4</th>\n",
       "      <td>CRIMINAL TRESPASS</td>\n",
       "    </tr>\n",
       "    <tr>\n",
       "      <th>5</th>\n",
       "      <td>PUBLIC PEACE VIOLATION</td>\n",
       "    </tr>\n",
       "  </tbody>\n",
       "</table>\n",
       "</div>"
      ],
      "text/plain": [
       "             PRIMARY_TYPE\n",
       "0                 BATTERY\n",
       "1         CRIMINAL DAMAGE\n",
       "2               NARCOTICS\n",
       "3                 ASSAULT\n",
       "4       CRIMINAL TRESPASS\n",
       "5  PUBLIC PEACE VIOLATION"
      ]
     },
     "execution_count": 55,
     "metadata": {},
     "output_type": "execute_result"
    }
   ],
   "source": [
    "command = \"SELECT DISTINCT(PRIMARY_TYPE) FROM CrimeData WHERE LOCATION_DESCRIPTION LIKE '%school%'\"\n",
    "cursor.execute(command)\n",
    "results = cursor.fetchall()\n",
    "results_df = pd.DataFrame(results, columns=[col[0] for col in cursor.description])\n",
    "results_df"
   ]
  },
  {
   "cell_type": "markdown",
   "metadata": {},
   "source": [
    "6.List the average safety score for each type of school"
   ]
  },
  {
   "cell_type": "code",
   "execution_count": 115,
   "metadata": {},
   "outputs": [
    {
     "data": {
      "text/html": [
       "<div>\n",
       "<style scoped>\n",
       "    .dataframe tbody tr th:only-of-type {\n",
       "        vertical-align: middle;\n",
       "    }\n",
       "\n",
       "    .dataframe tbody tr th {\n",
       "        vertical-align: top;\n",
       "    }\n",
       "\n",
       "    .dataframe thead th {\n",
       "        text-align: right;\n",
       "    }\n",
       "</style>\n",
       "<table border=\"1\" class=\"dataframe\">\n",
       "  <thead>\n",
       "    <tr style=\"text-align: right;\">\n",
       "      <th></th>\n",
       "      <th>Type</th>\n",
       "      <th>AVG(SAFETY_SCORE)</th>\n",
       "    </tr>\n",
       "  </thead>\n",
       "  <tbody>\n",
       "    <tr>\n",
       "      <th>0</th>\n",
       "      <td>ES</td>\n",
       "      <td>49.520384</td>\n",
       "    </tr>\n",
       "    <tr>\n",
       "      <th>1</th>\n",
       "      <td>HS</td>\n",
       "      <td>49.623529</td>\n",
       "    </tr>\n",
       "    <tr>\n",
       "      <th>2</th>\n",
       "      <td>MS</td>\n",
       "      <td>48.000000</td>\n",
       "    </tr>\n",
       "  </tbody>\n",
       "</table>\n",
       "</div>"
      ],
      "text/plain": [
       "  Type  AVG(SAFETY_SCORE)\n",
       "0   ES          49.520384\n",
       "1   HS          49.623529\n",
       "2   MS          48.000000"
      ]
     },
     "execution_count": 115,
     "metadata": {},
     "output_type": "execute_result"
    }
   ],
   "source": [
    "command = \"SELECT Elementary_Middle_or_High_School AS Type, AVG(SAFETY_SCORE) FROM PublicSchools GROUP BY Elementary_Middle_or_High_School\"\n",
    "cursor.execute(command)\n",
    "results = cursor.fetchall()\n",
    "results_df = pd.DataFrame(results, columns=[col[0] for col in cursor.description])\n",
    "results_df"
   ]
  },
  {
   "cell_type": "markdown",
   "metadata": {},
   "source": [
    "7.List 5 community areas with highest % of households below poverty line"
   ]
  },
  {
   "cell_type": "code",
   "execution_count": 116,
   "metadata": {},
   "outputs": [
    {
     "data": {
      "text/html": [
       "<div>\n",
       "<style scoped>\n",
       "    .dataframe tbody tr th:only-of-type {\n",
       "        vertical-align: middle;\n",
       "    }\n",
       "\n",
       "    .dataframe tbody tr th {\n",
       "        vertical-align: top;\n",
       "    }\n",
       "\n",
       "    .dataframe thead th {\n",
       "        text-align: right;\n",
       "    }\n",
       "</style>\n",
       "<table border=\"1\" class=\"dataframe\">\n",
       "  <thead>\n",
       "    <tr style=\"text-align: right;\">\n",
       "      <th></th>\n",
       "      <th>COMMUNITY_AREA_NAME</th>\n",
       "      <th>PERCENT_HOUSEHOLDS_BELOW_POVERTY</th>\n",
       "    </tr>\n",
       "  </thead>\n",
       "  <tbody>\n",
       "    <tr>\n",
       "      <th>0</th>\n",
       "      <td>Riverdale</td>\n",
       "      <td>56.5</td>\n",
       "    </tr>\n",
       "    <tr>\n",
       "      <th>1</th>\n",
       "      <td>Fuller Park</td>\n",
       "      <td>51.2</td>\n",
       "    </tr>\n",
       "    <tr>\n",
       "      <th>2</th>\n",
       "      <td>Englewood</td>\n",
       "      <td>46.6</td>\n",
       "    </tr>\n",
       "    <tr>\n",
       "      <th>3</th>\n",
       "      <td>North Lawndale</td>\n",
       "      <td>43.1</td>\n",
       "    </tr>\n",
       "    <tr>\n",
       "      <th>4</th>\n",
       "      <td>Washington Park</td>\n",
       "      <td>42.1</td>\n",
       "    </tr>\n",
       "  </tbody>\n",
       "</table>\n",
       "</div>"
      ],
      "text/plain": [
       "  COMMUNITY_AREA_NAME PERCENT_HOUSEHOLDS_BELOW_POVERTY\n",
       "0           Riverdale                             56.5\n",
       "1         Fuller Park                             51.2\n",
       "2           Englewood                             46.6\n",
       "3      North Lawndale                             43.1\n",
       "4     Washington Park                             42.1"
      ]
     },
     "execution_count": 116,
     "metadata": {},
     "output_type": "execute_result"
    }
   ],
   "source": [
    "command = \"SELECT COMMUNITY_AREA_NAME,PERCENT_HOUSEHOLDS_BELOW_POVERTY FROM CensusData ORDER BY CAST(PERCENT_HOUSEHOLDS_BELOW_POVERTY AS SIGNED) DESC LIMIT 5\"\n",
    "cursor.execute(command)\n",
    "results = cursor.fetchall()\n",
    "results_df = pd.DataFrame(results, columns=[col[0] for col in cursor.description])\n",
    "results_df"
   ]
  },
  {
   "cell_type": "markdown",
   "metadata": {},
   "source": [
    "8.Which community area is most crime prone?"
   ]
  },
  {
   "cell_type": "code",
   "execution_count": 94,
   "metadata": {},
   "outputs": [
    {
     "data": {
      "text/html": [
       "<div>\n",
       "<style scoped>\n",
       "    .dataframe tbody tr th:only-of-type {\n",
       "        vertical-align: middle;\n",
       "    }\n",
       "\n",
       "    .dataframe tbody tr th {\n",
       "        vertical-align: top;\n",
       "    }\n",
       "\n",
       "    .dataframe thead th {\n",
       "        text-align: right;\n",
       "    }\n",
       "</style>\n",
       "<table border=\"1\" class=\"dataframe\">\n",
       "  <thead>\n",
       "    <tr style=\"text-align: right;\">\n",
       "      <th></th>\n",
       "      <th>COMMUNITY_AREA_NAME</th>\n",
       "    </tr>\n",
       "  </thead>\n",
       "  <tbody>\n",
       "    <tr>\n",
       "      <th>0</th>\n",
       "      <td>Austin</td>\n",
       "    </tr>\n",
       "  </tbody>\n",
       "</table>\n",
       "</div>"
      ],
      "text/plain": [
       "  COMMUNITY_AREA_NAME\n",
       "0              Austin"
      ]
     },
     "execution_count": 94,
     "metadata": {},
     "output_type": "execute_result"
    }
   ],
   "source": [
    "command_name = \"SELECT COMMUNITY_AREA_NAME FROM CensusData WHERE COMMUNITY_AREA_NUMBER = \\\n",
    "(SELECT COMMUNITY_AREA_NUMBER FROM CrimeData GROUP BY COMMUNITY_AREA_NUMBER ORDER BY COUNT(COMMUNITY_AREA_NUMBER) DESC LIMIT 1)\"\n",
    "cursor.execute(command_name)\n",
    "results = cursor.fetchall()\n",
    "results_df = pd.DataFrame(results, columns=[col[0] for col in cursor.description])\n",
    "results_df"
   ]
  },
  {
   "cell_type": "markdown",
   "metadata": {},
   "source": [
    "9.Use a sub-query to find the name of the community area with highest hardship index"
   ]
  },
  {
   "cell_type": "code",
   "execution_count": 98,
   "metadata": {},
   "outputs": [
    {
     "data": {
      "text/html": [
       "<div>\n",
       "<style scoped>\n",
       "    .dataframe tbody tr th:only-of-type {\n",
       "        vertical-align: middle;\n",
       "    }\n",
       "\n",
       "    .dataframe tbody tr th {\n",
       "        vertical-align: top;\n",
       "    }\n",
       "\n",
       "    .dataframe thead th {\n",
       "        text-align: right;\n",
       "    }\n",
       "</style>\n",
       "<table border=\"1\" class=\"dataframe\">\n",
       "  <thead>\n",
       "    <tr style=\"text-align: right;\">\n",
       "      <th></th>\n",
       "      <th>COMMUNITY_AREA_NAME</th>\n",
       "    </tr>\n",
       "  </thead>\n",
       "  <tbody>\n",
       "    <tr>\n",
       "      <th>0</th>\n",
       "      <td>Riverdale</td>\n",
       "    </tr>\n",
       "  </tbody>\n",
       "</table>\n",
       "</div>"
      ],
      "text/plain": [
       "  COMMUNITY_AREA_NAME\n",
       "0           Riverdale"
      ]
     },
     "execution_count": 98,
     "metadata": {},
     "output_type": "execute_result"
    }
   ],
   "source": [
    "command = \"SELECT COMMUNITY_AREA_NAME FROM CensusData WHERE COMMUNITY_AREA_NUMBER = \\\n",
    "(SELECT COMMUNITY_AREA_NUMBER FROM CensusData ORDER BY HARDSHIP_INDEX DESC LIMIT 1);\"\n",
    "cursor.execute(command)\n",
    "results = cursor.fetchall()\n",
    "results_df = pd.DataFrame(results, columns=[col[0] for col in cursor.description])\n",
    "results_df"
   ]
  },
  {
   "cell_type": "markdown",
   "metadata": {},
   "source": [
    "10.Use a sub-query to determine the Community Area Name with most number of crimes?"
   ]
  },
  {
   "cell_type": "code",
   "execution_count": 102,
   "metadata": {},
   "outputs": [
    {
     "data": {
      "text/html": [
       "<div>\n",
       "<style scoped>\n",
       "    .dataframe tbody tr th:only-of-type {\n",
       "        vertical-align: middle;\n",
       "    }\n",
       "\n",
       "    .dataframe tbody tr th {\n",
       "        vertical-align: top;\n",
       "    }\n",
       "\n",
       "    .dataframe thead th {\n",
       "        text-align: right;\n",
       "    }\n",
       "</style>\n",
       "<table border=\"1\" class=\"dataframe\">\n",
       "  <thead>\n",
       "    <tr style=\"text-align: right;\">\n",
       "      <th></th>\n",
       "      <th>COMMUNITY_AREA_NAME</th>\n",
       "    </tr>\n",
       "  </thead>\n",
       "  <tbody>\n",
       "    <tr>\n",
       "      <th>0</th>\n",
       "      <td>Austin</td>\n",
       "    </tr>\n",
       "  </tbody>\n",
       "</table>\n",
       "</div>"
      ],
      "text/plain": [
       "  COMMUNITY_AREA_NAME\n",
       "0              Austin"
      ]
     },
     "execution_count": 102,
     "metadata": {},
     "output_type": "execute_result"
    }
   ],
   "source": [
    "command = \"SELECT COMMUNITY_AREA_NAME FROM CensusData WHERE COMMUNITY_AREA_NUMBER = (\\\n",
    "  SELECT COMMUNITY_AREA_NUMBER FROM CrimeData GROUP BY COMMUNITY_AREA_NUMBEr ORDER BY COUNT(*) DESC LIMIT 1)\"\n",
    "cursor.execute(command)\n",
    "results = cursor.fetchall()\n",
    "results_df = pd.DataFrame(results, columns=[col[0] for col in cursor.description])\n",
    "results_df"
   ]
  },
  {
   "cell_type": "code",
   "execution_count": null,
   "metadata": {},
   "outputs": [],
   "source": []
  },
  {
   "cell_type": "code",
   "execution_count": null,
   "metadata": {},
   "outputs": [],
   "source": []
  }
 ],
 "metadata": {
  "kernelspec": {
   "display_name": "Python 3",
   "language": "python",
   "name": "python3"
  },
  "language_info": {
   "codemirror_mode": {
    "name": "ipython",
    "version": 3
   },
   "file_extension": ".py",
   "mimetype": "text/x-python",
   "name": "python",
   "nbconvert_exporter": "python",
   "pygments_lexer": "ipython3",
   "version": "3.8.5"
  }
 },
 "nbformat": 4,
 "nbformat_minor": 2
}
